{
 "cells": [
  {
   "cell_type": "markdown",
   "source": [],
   "metadata": {
    "collapsed": false
   }
  },
  {
   "cell_type": "markdown",
   "source": [
    "# Jupyter notebook for running ImmuneML code"
   ],
   "metadata": {
    "collapsed": false
   }
  },
  {
   "cell_type": "code",
   "execution_count": 280,
   "outputs": [],
   "source": [
    "# import stuff\n",
    "import os\n",
    "from pathlib import Path\n",
    "\n",
    "from immuneML.caching.CacheType import CacheType\n",
    "from immuneML.dsl.ImmuneMLParser import ImmuneMLParser\n",
    "from immuneML.environment.Constants import Constants\n",
    "from immuneML.environment.EnvironmentSettings import EnvironmentSettings\n",
    "from immuneML.dsl.definition_parsers.DefinitionParser import DefinitionParser\n",
    "from immuneML.util.PathBuilder import PathBuilder\n",
    "\n"
   ],
   "metadata": {
    "collapsed": false,
    "pycharm": {
     "name": "#%%\n"
    }
   }
  },
  {
   "cell_type": "markdown",
   "source": [
    "### Set specification and result path, and build path object. This is done in ImmuneMLApp.py"
   ],
   "metadata": {
    "collapsed": false
   }
  },
  {
   "cell_type": "code",
   "execution_count": 281,
   "outputs": [
    {
     "name": "stdout",
     "output_type": "stream",
     "text": [
      "2022-12-01 15:02:02.610465: Setting temporary cache path to ../../results/quickstart_result25843/cache\n"
     ]
    }
   ],
   "source": [
    "import random\n",
    "\n",
    "num = random.randint(0, 10000)\n",
    "specification_path = Path('quickstart_MLMethod.yaml')\n",
    "result_path = Path('../../results/quickstart_result2' + str(num))\n",
    "\n",
    "# Remove ../../ if stuff doesnt work :)\n",
    "PathBuilder.build(result_path)\n",
    "\n",
    "\n",
    "\n",
    "cache_path = result_path / \"cache\"\n",
    "os.environ[Constants.CACHE_TYPE] = CacheType.PRODUCTION.value\n",
    "EnvironmentSettings.set_cache_path(cache_path)\n"
   ],
   "metadata": {
    "collapsed": false,
    "pycharm": {
     "name": "#%%\n"
    }
   }
  },
  {
   "cell_type": "markdown",
   "source": [
    "### Open and read yaml specifcation file and turn into python object to make it understandable. Validates that all keys are strings with only letters, ints and underscore as valid characters. This is done in the file ImmuneMLParser.py"
   ],
   "metadata": {
    "collapsed": false
   }
  },
  {
   "cell_type": "code",
   "execution_count": 282,
   "outputs": [],
   "source": [
    "from yaml import MarkedYAMLError\n",
    "import yaml\n",
    "\n",
    "try:\n",
    "    with specification_path.open(\"r\") as file:\n",
    "        workflow_specification = yaml.safe_load(file)\n",
    "        ImmuneMLParser.check_keys(workflow_specification)\n",
    "except yaml.YAMLError as exc:\n",
    "    problem_description = \"\\n--------------------------------------------------------------------------------\\n\" \\\n",
    "                          \"There was a YAML formatting error in the supplied specification file. Please validate specification \" \\\n",
    "                          \"(you can use https://jsonformatter.org/yaml-validator) and try again.\"\n",
    "    raise MarkedYAMLError(context=str(exc), problem=problem_description, problem_mark=f\"The error was {exc.problem_mark}.\")"
   ],
   "metadata": {
    "collapsed": false,
    "pycharm": {
     "name": "#%%\n"
    }
   }
  },
  {
   "cell_type": "markdown",
   "source": [
    "### Creating empty symboltable from the python object (dict) that is a result from reading in the YAML file. The SymbolTable will contain all the objects that has been mapped to the variables in the YAML specification path."
   ],
   "metadata": {
    "collapsed": false
   }
  },
  {
   "cell_type": "code",
   "execution_count": 283,
   "outputs": [
    {
     "name": "stdout",
     "output_type": "stream",
     "text": [
      "{'definitions': {'datasets': {'my_dataset': {'format': 'AIRR', 'params': {'is_repertoire': True, 'path': '/Users/jorgenskimmeland/Documents/aar5/Master/ImmuneML/quickstart_data/repertoires', 'metadata_file': '/Users/jorgenskimmeland/Documents/aar5/Master/ImmuneML/quickstart_data/metadata.csv'}}}, 'encodings': {'my_kmer_frequency': {'KmerFrequency': {'k': 3}}}, 'ml_methods': {'my_logistic_regression': 'LogisticRegression'}, 'reports': {'my_coefficients': 'Coefficients'}}, 'instructions': {'my_training_instruction': {'type': 'TrainMLModel', 'dataset': 'my_dataset', 'labels': ['signal_disease'], 'settings': [{'encoding': 'my_kmer_frequency', 'ml_method': 'my_logistic_regression'}], 'assessment': {'reports': {'models': ['my_coefficients']}, 'split_strategy': 'random', 'split_count': 1, 'training_percentage': 0.7}, 'selection': {'split_strategy': 'random', 'split_count': 1, 'training_percentage': 1}, 'optimization_metric': 'balanced_accuracy', 'metrics': ['auc', 'precision', 'recall'], 'number_of_processes': 4}}}\n",
      "\n",
      " SymbolTable()\n"
     ]
    }
   ],
   "source": [
    "from immuneML.dsl.symbol_table.SymbolTable import SymbolTable\n",
    "\n",
    "symbol_table = SymbolTable()\n",
    "\n",
    "# The dict containing the YAML specification data. This was translated to understandable data using the safe_load function.\n",
    "print(workflow_specification)\n",
    "\n",
    "print(\"\\n\", symbol_table)"
   ],
   "metadata": {
    "collapsed": false,
    "pycharm": {
     "name": "#%%\n"
    }
   }
  },
  {
   "cell_type": "markdown",
   "source": [
    "### Read values from definition section in YAML file through definition parser"
   ],
   "metadata": {
    "collapsed": false,
    "pycharm": {
     "name": "#%% md\n"
    }
   }
  },
  {
   "cell_type": "markdown",
   "source": [
    "### Calling the parse function for the DefinitionParser that will call the different parsers for the objects that belongs to the Definition section. REMEMBER that the ml_methods are collected from the extendedPackages directory."
   ],
   "metadata": {
    "collapsed": false
   }
  },
  {
   "cell_type": "code",
   "execution_count": 284,
   "outputs": [
    {
     "name": "stdout",
     "output_type": "stream",
     "text": [
      "Filenames: [PosixPath('/Users/jorgenskimmeland/PycharmProjects/immuneML/extendedPackages/ml_methods/LogisticRegression.py')]\n"
     ]
    }
   ],
   "source": [
    "from immuneML.ml_methods.MLMethod import MLMethod\n",
    "from immuneML.dsl.InstructionParser import InstructionParser\n",
    "\n",
    "def_parser_output, specs_defs = DefinitionParser.parse(workflow_specification, symbol_table, result_path)"
   ],
   "metadata": {
    "collapsed": false,
    "pycharm": {
     "name": "#%%\n"
    }
   }
  },
  {
   "cell_type": "markdown",
   "source": [
    "### Parsing the instruction of the YAML specification file."
   ],
   "metadata": {
    "collapsed": false
   }
  },
  {
   "cell_type": "code",
   "execution_count": 285,
   "outputs": [],
   "source": [
    "symbol_table, specs_instructions = InstructionParser.parse(def_parser_output, result_path)"
   ],
   "metadata": {
    "collapsed": false,
    "pycharm": {
     "name": "#%%\n"
    }
   }
  },
  {
   "cell_type": "markdown",
   "source": [],
   "metadata": {
    "collapsed": false
   }
  },
  {
   "cell_type": "markdown",
   "source": [
    "### Output parser defines format and builds ouput path"
   ],
   "metadata": {
    "collapsed": false
   }
  },
  {
   "cell_type": "code",
   "execution_count": 286,
   "outputs": [],
   "source": [
    "from immuneML.dsl.OutputParser import OutputParser\n",
    "\n",
    "app_output = OutputParser.parse(workflow_specification, symbol_table)"
   ],
   "metadata": {
    "collapsed": false,
    "pycharm": {
     "name": "#%%\n"
    }
   }
  },
  {
   "cell_type": "markdown",
   "source": [
    "### Specifies the output, dumps the yaml results"
   ],
   "metadata": {
    "collapsed": false
   }
  },
  {
   "cell_type": "code",
   "execution_count": 287,
   "outputs": [
    {
     "name": "stdout",
     "output_type": "stream",
     "text": [
      "2022-12-01 15:02:18.349372: Full specification is available at ../../results/quickstart_result25843/full_quickstart_MLMethod.yaml.\n",
      "\n"
     ]
    }
   ],
   "source": [
    "path = ImmuneMLParser._output_specs(file_path=specification_path, result_path=result_path, definitions=specs_defs, instructions=specs_instructions, output=app_output)\n"
   ],
   "metadata": {
    "collapsed": false,
    "pycharm": {
     "name": "#%%\n"
    }
   }
  },
  {
   "cell_type": "code",
   "execution_count": 288,
   "outputs": [
    {
     "data": {
      "text/plain": "{'my_kmer_frequency': <immuneML.dsl.symbol_table.SymbolTableEntry.SymbolTableEntry at 0x7ff084900610>,\n 'my_logistic_regression': <immuneML.dsl.symbol_table.SymbolTableEntry.SymbolTableEntry at 0x7ff0a09fa820>,\n 'my_coefficients': <immuneML.dsl.symbol_table.SymbolTableEntry.SymbolTableEntry at 0x7ff0a29518e0>,\n 'my_dataset': <immuneML.dsl.symbol_table.SymbolTableEntry.SymbolTableEntry at 0x7ff0a2951c10>,\n 'my_training_instruction': <immuneML.dsl.symbol_table.SymbolTableEntry.SymbolTableEntry at 0x7ff0849c7040>,\n 'output': <immuneML.dsl.symbol_table.SymbolTableEntry.SymbolTableEntry at 0x7ff0850bb040>}"
     },
     "execution_count": 288,
     "metadata": {},
     "output_type": "execute_result"
    }
   ],
   "source": [
    "symbol_table._items"
   ],
   "metadata": {
    "collapsed": false,
    "pycharm": {
     "name": "#%%\n"
    }
   }
  },
  {
   "cell_type": "markdown",
   "source": [
    "# At this point we are done with parsing the YAML specification file :)\n",
    "\n",
    "#### The results from reading the yaml file is a SymbolTable that has mapped the YAML keywords to the appropriate python objects"
   ],
   "metadata": {
    "collapsed": false
   }
  },
  {
   "cell_type": "markdown",
   "source": [
    "### SymbolType is an Enum class that shows.. Gets all instructions from SymbolTable"
   ],
   "metadata": {
    "collapsed": false
   }
  },
  {
   "cell_type": "code",
   "execution_count": 290,
   "outputs": [],
   "source": [
    "from immuneML.dsl.symbol_table.SymbolType import SymbolType\n",
    "\n",
    "instructions = symbol_table.get_by_type(SymbolType.INSTRUCTION)"
   ],
   "metadata": {
    "collapsed": false,
    "pycharm": {
     "name": "#%%\n"
    }
   }
  },
  {
   "cell_type": "markdown",
   "source": [
    "### Get output from symbol table"
   ],
   "metadata": {
    "collapsed": false
   }
  },
  {
   "cell_type": "code",
   "execution_count": null,
   "outputs": [],
   "source": [
    "output = symbol_table.get(\"output\")"
   ],
   "metadata": {
    "collapsed": false,
    "pycharm": {
     "name": "#%%\n"
    }
   }
  },
  {
   "cell_type": "markdown",
   "source": [
    "# At this point we are done with defining outout [revider denne senere]"
   ],
   "metadata": {
    "collapsed": false
   }
  },
  {
   "cell_type": "markdown",
   "source": [
    "### Clear cache to av avoid crash"
   ],
   "metadata": {
    "collapsed": false
   }
  },
  {
   "cell_type": "code",
   "execution_count": 289,
   "outputs": [],
   "source": [
    "import shutil\n",
    "\n",
    "# clear cache\n",
    "shutil.rmtree(cache_path, ignore_errors=True)\n",
    "EnvironmentSettings.reset_cache_path()\n",
    "del os.environ[Constants.CACHE_TYPE]"
   ],
   "metadata": {
    "collapsed": false,
    "pycharm": {
     "name": "#%%\n"
    }
   }
  },
  {
   "cell_type": "code",
   "execution_count": 289,
   "outputs": [],
   "source": [],
   "metadata": {
    "collapsed": false,
    "pycharm": {
     "name": "#%%\n"
    }
   }
  }
 ],
 "metadata": {
  "kernelspec": {
   "display_name": "Python 3",
   "language": "python",
   "name": "python3"
  },
  "language_info": {
   "codemirror_mode": {
    "name": "ipython",
    "version": 2
   },
   "file_extension": ".py",
   "mimetype": "text/x-python",
   "name": "python",
   "nbconvert_exporter": "python",
   "pygments_lexer": "ipython2",
   "version": "2.7.6"
  }
 },
 "nbformat": 4,
 "nbformat_minor": 0
}