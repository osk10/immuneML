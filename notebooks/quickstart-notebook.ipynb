{
 "cells": [
  {
   "cell_type": "markdown",
   "source": [
    "### Run main() ImmuneMLApp.py\n",
    "Parse arguments from terminal"
   ],
   "metadata": {
    "collapsed": false
   }
  },
  {
   "cell_type": "code",
   "execution_count": 275,
   "metadata": {
    "collapsed": true
   },
   "outputs": [],
   "source": [
    "import os\n",
    "from pathlib import Path\n",
    "import random\n",
    "from immuneML.caching.CacheType import CacheType\n",
    "from immuneML.dsl.ImmuneMLParser import ImmuneMLParser\n",
    "from immuneML.environment.Constants import Constants\n",
    "from immuneML.environment.EnvironmentSettings import EnvironmentSettings\n",
    "from immuneML.util.PathBuilder import PathBuilder"
   ]
  },
  {
   "cell_type": "markdown",
   "source": [
    "### Set path to YAML file with specifications. Create folder for results\n",
    "ImmuneMLApp.py - init"
   ],
   "metadata": {
    "collapsed": false
   }
  },
  {
   "cell_type": "code",
   "execution_count": 276,
   "outputs": [],
   "source": [
    "# for testing, create unique result path everytime\n",
    "num = random.randint(0, 10000)\n",
    "result_path = Path(\"../../results/quickstart_results\"+str(num))\n",
    "specification_path = Path(\"/Users/oskar/Documents/Skole/Master/immuneml_forked/quickstart.yaml\")"
   ],
   "metadata": {
    "collapsed": false
   }
  },
  {
   "cell_type": "code",
   "execution_count": 277,
   "outputs": [
    {
     "data": {
      "text/plain": "PosixPath('../../results/quickstart_results2419')"
     },
     "execution_count": 277,
     "metadata": {},
     "output_type": "execute_result"
    }
   ],
   "source": [
    "PathBuilder.build(result_path)"
   ],
   "metadata": {
    "collapsed": false
   }
  },
  {
   "cell_type": "code",
   "execution_count": 278,
   "outputs": [
    {
     "name": "stdout",
     "output_type": "stream",
     "text": [
      "2022-12-02 09:05:17.234557: Setting temporary cache path to ../../results/quickstart_results2419/cache\n"
     ]
    }
   ],
   "source": [
    "cache_path = result_path/\"cache\"\n",
    "os.environ[Constants.CACHE_TYPE] = CacheType.PRODUCTION.value\n",
    "EnvironmentSettings.set_cache_path(cache_path)"
   ],
   "metadata": {
    "collapsed": false
   }
  },
  {
   "cell_type": "markdown",
   "source": [
    "### ImmuneMLApp.run()"
   ],
   "metadata": {
    "collapsed": false
   }
  },
  {
   "cell_type": "code",
   "execution_count": 278,
   "outputs": [],
   "source": [],
   "metadata": {
    "collapsed": false
   }
  },
  {
   "cell_type": "markdown",
   "source": [
    "### Parse YAML file\n",
    "Open and read content of file, parse YAML to python to dict object\n",
    "Validate that all keys are of type string with characters containing only letters, numbers and underscore.\n",
    "\n",
    "ImmuneMLParser.py - parse_yaml_file"
   ],
   "metadata": {
    "collapsed": false
   }
  },
  {
   "cell_type": "code",
   "execution_count": 279,
   "outputs": [],
   "source": [
    "import yaml\n",
    "from yaml import MarkedYAMLError\n",
    "\n",
    "# parse_yaml_file\n",
    "try:\n",
    "    with specification_path.open(\"r\") as file:\n",
    "        # open and read content of file, parse yaml to python dict object\n",
    "        workflow_specification = yaml.safe_load(file)\n",
    "        # validates that all keys are of type string with characters contain only letters, numbers and underscore\n",
    "        ImmuneMLParser.check_keys(workflow_specification)\n",
    "except yaml.YAMLError as exc:\n",
    "    problem_description = \"\\n--------------------------------------------------------------------------------\\n\" \\\n",
    "                          \"There was a YAML formatting error in the supplied specification file. Please validate specification \" \\\n",
    "                          \"(you can use https://jsonformatter.org/yaml-validator) and try again.\"\n",
    "    raise MarkedYAMLError(context=str(exc), problem=problem_description, problem_mark=f\"The error was {exc.problem_mark}.\")\n"
   ],
   "metadata": {
    "collapsed": false
   }
  },
  {
   "cell_type": "markdown",
   "source": [
    "### Create SymbolTable\n",
    "Contains all specifications set in YAML file after running parsers\n",
    "\n",
    "ImmuneMLParser.py - parse"
   ],
   "metadata": {
    "collapsed": false
   }
  },
  {
   "cell_type": "code",
   "execution_count": 280,
   "outputs": [
    {
     "data": {
      "text/plain": "PosixPath('/Users/oskar/Documents/Skole/Master/immuneml_forked/quickstart.yaml')"
     },
     "execution_count": 280,
     "metadata": {},
     "output_type": "execute_result"
    }
   ],
   "source": [
    "\n",
    "\n",
    "from pathlib import Path\n",
    "\n",
    "from immuneML.dsl.symbol_table.SymbolTable import SymbolTable\n",
    "\n",
    "\n",
    "# this is ImmuneMLParser.parse\n",
    "symbol_table = SymbolTable()\n",
    "\n",
    "specification_path"
   ],
   "metadata": {
    "collapsed": false
   }
  },
  {
   "cell_type": "markdown",
   "source": [
    "### Definiton parser\n",
    "DefinitionParser.py - parse"
   ],
   "metadata": {
    "collapsed": false
   }
  },
  {
   "cell_type": "code",
   "execution_count": 280,
   "outputs": [],
   "source": [],
   "metadata": {
    "collapsed": false
   }
  },
  {
   "cell_type": "code",
   "execution_count": 281,
   "outputs": [],
   "source": [
    "# definition parser. parse(). Python dict = workflow_specification, yaml file\n",
    "import datetime\n",
    "import re\n",
    "from pathlib import Path\n",
    "\n",
    "import yaml\n",
    "from yaml import MarkedYAMLError\n",
    "\n",
    "from immuneML.dsl.InstructionParser import InstructionParser\n",
    "from immuneML.dsl.OutputParser import OutputParser\n",
    "from immuneML.dsl.definition_parsers.DefinitionParser import DefinitionParser\n",
    "from immuneML.dsl.symbol_table.SymbolTable import SymbolTable\n",
    "from immuneML.dsl.symbol_table.SymbolType import SymbolType\n",
    "from immuneML.util.Logger import print_log\n",
    "from immuneML.util.PathBuilder import PathBuilder\n",
    "from immuneML.dsl.definition_parsers.DefinitionParser import DefinitionParser\n",
    "\n",
    "def_parser_output, specs_defs = DefinitionParser.parse(workflow_specification, symbol_table, result_path)"
   ],
   "metadata": {
    "collapsed": false
   }
  },
  {
   "cell_type": "markdown",
   "source": [],
   "metadata": {
    "collapsed": false
   }
  },
  {
   "cell_type": "markdown",
   "source": [
    "### Definition parser return def_parser_output(symbol_table, workflow_specification) and specs_defs"
   ],
   "metadata": {
    "collapsed": false
   }
  },
  {
   "cell_type": "code",
   "execution_count": 282,
   "outputs": [
    {
     "data": {
      "text/plain": "<immuneML.dsl.definition_parsers.DefinitionParserOutput.DefinitionParserOutput at 0x7f89e8cf1e50>"
     },
     "execution_count": 282,
     "metadata": {},
     "output_type": "execute_result"
    }
   ],
   "source": [
    "def_parser_output\n"
   ],
   "metadata": {
    "collapsed": false
   }
  },
  {
   "cell_type": "code",
   "execution_count": 283,
   "outputs": [
    {
     "data": {
      "text/plain": "{'datasets': {'my_dataset': {'format': 'AIRR',\n   'params': {'is_repertoire': True,\n    'path': PosixPath('/Users/oskar/Documents/Skole/Master/immuneml_forked/quickstart_data/repertoires'),\n    'paired': False,\n    'import_productive': True,\n    'import_with_stop_codon': False,\n    'import_out_of_frame': False,\n    'import_illegal_characters': False,\n    'region_type': 'IMGT_CDR3',\n    'separator': '\\t',\n    'column_mapping': {'junction': 'sequences',\n     'junction_aa': 'sequence_aas',\n     'v_call': 'v_alleles',\n     'j_call': 'j_alleles',\n     'locus': 'chains',\n     'duplicate_count': 'counts',\n     'sequence_id': 'sequence_identifiers'},\n    'import_empty_nt_sequences': True,\n    'import_empty_aa_sequences': False,\n    'metadata_file': PosixPath('/Users/oskar/Documents/Skole/Master/immuneml_forked/quickstart_data/metadata.csv'),\n    'result_path': PosixPath('../../results/quickstart_results2419/datasets/my_dataset')}}},\n 'simulations': {},\n 'preprocessing_sequences': {},\n 'motifs': {},\n 'signals': {},\n 'encodings': {'my_kmer_frequency': {'KmerFrequency': {'k': 3}}},\n 'ml_methods': {'my_logistic_regression': {'model_selection_cv': False,\n   'model_selection_n_folds': -1,\n   'LogisticRegression': {}}},\n 'reports': {'my_coefficients': {'Coefficients': {'coefs_to_plot': ['n_largest'],\n    'n_largest': [25],\n    'name': 'my_coefficients'}}}}"
     },
     "execution_count": 283,
     "metadata": {},
     "output_type": "execute_result"
    }
   ],
   "source": [
    "specs_defs"
   ],
   "metadata": {
    "collapsed": false
   }
  },
  {
   "cell_type": "markdown",
   "source": [
    "### Instruction parser. Parses instruction from dict formed by yaml file"
   ],
   "metadata": {
    "collapsed": false
   }
  },
  {
   "cell_type": "code",
   "execution_count": 284,
   "outputs": [
    {
     "data": {
      "text/plain": "SymbolTable()"
     },
     "execution_count": 284,
     "metadata": {},
     "output_type": "execute_result"
    }
   ],
   "source": [
    "symbol_table, specs_instructions = InstructionParser.parse(def_parser_output, result_path)\n",
    "\n",
    "symbol_table"
   ],
   "metadata": {
    "collapsed": false
   }
  },
  {
   "cell_type": "markdown",
   "source": [
    "### OutputParser. Sets output formats for output file"
   ],
   "metadata": {
    "collapsed": false
   }
  },
  {
   "cell_type": "code",
   "execution_count": 285,
   "outputs": [],
   "source": [
    "app_output = OutputParser.parse(workflow_specification, symbol_table)"
   ],
   "metadata": {
    "collapsed": false
   }
  },
  {
   "cell_type": "markdown",
   "source": [
    "### Returns filepath to file with all specifications"
   ],
   "metadata": {
    "collapsed": false
   }
  },
  {
   "cell_type": "code",
   "execution_count": 286,
   "outputs": [
    {
     "name": "stdout",
     "output_type": "stream",
     "text": [
      "2022-12-02 09:05:27.119293: Full specification is available at ../../results/quickstart_results2419/full_quickstart.yaml.\n",
      "\n"
     ]
    }
   ],
   "source": [
    "from immuneML.dsl.ImmuneMLParser import ImmuneMLParser\n",
    "\n",
    "path = ImmuneMLParser._output_specs(file_path=specification_path, result_path=result_path, definitions=specs_defs, instructions=specs_instructions, output=app_output)"
   ],
   "metadata": {
    "collapsed": false
   }
  },
  {
   "cell_type": "markdown",
   "source": [
    "# Finished parsing\n",
    "Result is a filled SymbolTable object and a path to all specifications"
   ],
   "metadata": {
    "collapsed": false
   }
  },
  {
   "cell_type": "code",
   "execution_count": 287,
   "outputs": [
    {
     "data": {
      "text/plain": "{'my_kmer_frequency': <immuneML.dsl.symbol_table.SymbolTableEntry.SymbolTableEntry at 0x7f89ff29f4f0>,\n 'my_logistic_regression': <immuneML.dsl.symbol_table.SymbolTableEntry.SymbolTableEntry at 0x7f89e8d980d0>,\n 'my_coefficients': <immuneML.dsl.symbol_table.SymbolTableEntry.SymbolTableEntry at 0x7f89e8d1fd60>,\n 'my_dataset': <immuneML.dsl.symbol_table.SymbolTableEntry.SymbolTableEntry at 0x7f89ff344be0>,\n 'my_training_instruction': <immuneML.dsl.symbol_table.SymbolTableEntry.SymbolTableEntry at 0x7f89e8d1fee0>,\n 'output': <immuneML.dsl.symbol_table.SymbolTableEntry.SymbolTableEntry at 0x7f89dbd51eb0>}"
     },
     "execution_count": 287,
     "metadata": {},
     "output_type": "execute_result"
    }
   ],
   "source": [
    "symbol_table._items"
   ],
   "metadata": {
    "collapsed": false
   }
  },
  {
   "cell_type": "markdown",
   "source": [
    "### Get instructions in SymbolTable"
   ],
   "metadata": {
    "collapsed": false
   }
  },
  {
   "cell_type": "code",
   "execution_count": 288,
   "outputs": [
    {
     "data": {
      "text/plain": "TrainMLModelState(dataset=<immuneML.data_model.dataset.RepertoireDataset.RepertoireDataset object at 0x7f8a08dedb20>, hp_strategy=<immuneML.hyperparameter_optimization.strategy.GridSearch.GridSearch object at 0x7f89e8d1f790>, hp_settings=[<immuneML.hyperparameter_optimization.HPSetting.HPSetting object at 0x7f89e8d485e0>], assessment=<immuneML.hyperparameter_optimization.config.SplitConfig.SplitConfig object at 0x7f89e8cf5850>, selection=<immuneML.hyperparameter_optimization.config.SplitConfig.SplitConfig object at 0x7f89e8cf57f0>, metrics={<Metric.AUC: 'roc_auc_score'>, <Metric.PRECISION: 'precision_score'>, <Metric.RECALL: 'recall_score'>}, optimization_metric=<Metric.BALANCED_ACCURACY: 'balanced_accuracy_score'>, label_configuration=<immuneML.environment.LabelConfiguration.LabelConfiguration object at 0x7f89ff2793a0>, path=PosixPath('/Users/oskar/Documents/Skole/Master/immuneml_forked/analysis_runs/f6a0fc2ede6c2c6ded8b4a2e392e849c'), context={'dataset': <immuneML.data_model.dataset.RepertoireDataset.RepertoireDataset object at 0x7f8a08dedb20>}, number_of_processes=4, reports={}, name='my_training_instruction', refit_optimal_model=False, optimal_hp_items={}, optimal_hp_item_paths={}, assessment_states=[], report_results=[])"
     },
     "execution_count": 288,
     "metadata": {},
     "output_type": "execute_result"
    }
   ],
   "source": [
    "instructions = symbol_table.get_by_type(SymbolType.INSTRUCTION)\n",
    "\n",
    "# TrainMLModelInstruction. List of instructions. In this case, everything that is needed to train the ML model.\n",
    "instructions[0].item.state"
   ],
   "metadata": {
    "collapsed": false
   }
  },
  {
   "cell_type": "markdown",
   "source": [
    "### Get output from SymbolTable\n",
    "uses .get because it is only one element."
   ],
   "metadata": {
    "collapsed": false
   }
  },
  {
   "cell_type": "code",
   "execution_count": 293,
   "outputs": [
    {
     "data": {
      "text/plain": "{'format': 'HTML'}"
     },
     "execution_count": 293,
     "metadata": {},
     "output_type": "execute_result"
    }
   ],
   "source": [
    "output = symbol_table.get(\"output\")\n",
    "output"
   ],
   "metadata": {
    "collapsed": false
   }
  },
  {
   "cell_type": "markdown",
   "source": [
    "# Run all instructions\n",
    "Run each instruction with the SemanticModel()"
   ],
   "metadata": {
    "collapsed": false
   }
  },
  {
   "cell_type": "code",
   "execution_count": 294,
   "outputs": [],
   "source": [
    "from immuneML.dsl.semantic_model.SemanticModel import SemanticModel\n",
    "\n",
    "model = SemanticModel([instruction.item for instruction in instructions], result_path, output)\n"
   ],
   "metadata": {
    "collapsed": false
   }
  },
  {
   "cell_type": "markdown",
   "source": [
    "1. run - run instruction and build report if output is set\n",
    "2. run_instruction - run each instruction.\n",
    "    * TrainMLModelInstruction - ..."
   ],
   "metadata": {
    "collapsed": false
   }
  },
  {
   "cell_type": "markdown",
   "source": [],
   "metadata": {
    "collapsed": false
   }
  },
  {
   "cell_type": "code",
   "execution_count": 290,
   "outputs": [],
   "source": [
    "import shutil\n",
    "\n",
    "# clear cache\n",
    "shutil.rmtree(cache_path, ignore_errors=True)\n",
    "EnvironmentSettings.reset_cache_path()\n",
    "del os.environ[Constants.CACHE_TYPE]"
   ],
   "metadata": {
    "collapsed": false
   }
  },
  {
   "cell_type": "code",
   "execution_count": 290,
   "outputs": [],
   "source": [],
   "metadata": {
    "collapsed": false
   }
  }
 ],
 "metadata": {
  "kernelspec": {
   "display_name": "Python 3",
   "language": "python",
   "name": "python3"
  },
  "language_info": {
   "codemirror_mode": {
    "name": "ipython",
    "version": 2
   },
   "file_extension": ".py",
   "mimetype": "text/x-python",
   "name": "python",
   "nbconvert_exporter": "python",
   "pygments_lexer": "ipython2",
   "version": "2.7.6"
  }
 },
 "nbformat": 4,
 "nbformat_minor": 0
}
